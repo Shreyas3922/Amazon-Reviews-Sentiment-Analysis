{
 "cells": [
  {
   "cell_type": "code",
   "execution_count": 1,
   "id": "56d035e1",
   "metadata": {},
   "outputs": [],
   "source": [
    "import pandas as pd\n",
    "import requests\n",
    "from bs4 import BeautifulSoup\n",
    "import time"
   ]
  },
  {
   "cell_type": "markdown",
   "id": "3f4b94a5",
   "metadata": {},
   "source": [
    "# Webscrape Amazon customer reviews"
   ]
  },
  {
   "cell_type": "markdown",
   "id": "65000f0a",
   "metadata": {},
   "source": [
    "Scraping the data with no filters would only fetch 100 reviews as amazon only first ten pages for reviews. \\\n",
    "Hence we can scrape for 5 star, 4 star and so on reviews separately."
   ]
  },
  {
   "cell_type": "code",
   "execution_count": 33,
   "id": "a3824c91",
   "metadata": {},
   "outputs": [],
   "source": [
    "def get_review_on_stars(url):\n",
    "    reviewlist = []\n",
    "\n",
    "    def get_soup(url1):\n",
    "        r = requests.get('http://localhost:8050/render.html', params={'url': url1, 'wait': 2})\n",
    "        soup = BeautifulSoup(r.text, 'html.parser')\n",
    "        return soup\n",
    "    def get_reviews(soup):\n",
    "        reviews = soup.find_all('div', {'data-hook': 'review'})\n",
    "        try:\n",
    "            for item in reviews:\n",
    "                review = {\n",
    "                'product': soup.title.text.replace('Amazon.in:Customer reviews:', '').strip(),\n",
    "                'title': item.find('a', {'data-hook': 'review-title'}).text.strip(),\n",
    "                'rating':  float(item.find('i', {'data-hook': 'review-star-rating'}).text.replace('out of 5 stars', '').strip()),\n",
    "                'body': item.find('span', {'data-hook': 'review-body'}).text.strip(),\n",
    "                }\n",
    "                reviewlist.append(review)\n",
    "        except:\n",
    "            pass\n",
    "\n",
    "    for x in range(1,11):\n",
    "        soup = get_soup(f'{url}&pageNumber={x}')\n",
    "        print(f'Getting page: {x}')\n",
    "        get_reviews(soup)\n",
    "        print(len(reviewlist))\n",
    "        if not soup.find('li', {'class': 'a-disabled a-last'}):\n",
    "            pass\n",
    "        else:\n",
    "            break\n",
    "    return reviewlist"
   ]
  },
  {
   "cell_type": "code",
   "execution_count": 34,
   "id": "246b6a26",
   "metadata": {},
   "outputs": [
    {
     "name": "stdout",
     "output_type": "stream",
     "text": [
      "Getting page: 1\n",
      "10\n",
      "Getting page: 2\n",
      "20\n",
      "Getting page: 3\n",
      "30\n",
      "Getting page: 4\n",
      "40\n",
      "Getting page: 5\n",
      "50\n",
      "Getting page: 6\n",
      "60\n",
      "Getting page: 7\n",
      "70\n",
      "Getting page: 8\n",
      "80\n",
      "Getting page: 9\n",
      "90\n",
      "Getting page: 10\n",
      "100\n"
     ]
    }
   ],
   "source": [
    "review_5star_df = pd.DataFrame(get_review_on_stars(\"https://www.amazon.in/Apple-iPhone-13-128GB-Starlight/product-reviews/B09G9D8KRQ/ref=cm_cr_getr_d_paging_btm_next_2?ie=UTF8&reviewerType=all_reviews&filterByStar=five_star\"))"
   ]
  },
  {
   "cell_type": "code",
   "execution_count": 35,
   "id": "2d3fefb8",
   "metadata": {},
   "outputs": [
    {
     "name": "stdout",
     "output_type": "stream",
     "text": [
      "Getting page: 1\n",
      "10\n",
      "Getting page: 2\n",
      "20\n",
      "Getting page: 3\n",
      "30\n",
      "Getting page: 4\n",
      "40\n",
      "Getting page: 5\n",
      "50\n",
      "Getting page: 6\n",
      "60\n",
      "Getting page: 7\n",
      "70\n",
      "Getting page: 8\n",
      "80\n",
      "Getting page: 9\n",
      "90\n",
      "Getting page: 10\n",
      "100\n"
     ]
    }
   ],
   "source": [
    "review_4star_df = pd.DataFrame(get_review_on_stars(\"https://www.amazon.in/Apple-iPhone-13-128GB-Starlight/product-reviews/B09G9D8KRQ/ref=cm_cr_getr_d_paging_btm_next_2?ie=UTF8&reviewerType=all_reviews&filterByStar=four_star\"))"
   ]
  },
  {
   "cell_type": "code",
   "execution_count": 36,
   "id": "001a9811",
   "metadata": {},
   "outputs": [
    {
     "name": "stdout",
     "output_type": "stream",
     "text": [
      "Getting page: 1\n",
      "10\n",
      "Getting page: 2\n",
      "20\n",
      "Getting page: 3\n",
      "30\n",
      "Getting page: 4\n",
      "40\n",
      "Getting page: 5\n",
      "50\n",
      "Getting page: 6\n",
      "60\n",
      "Getting page: 7\n",
      "70\n",
      "Getting page: 8\n",
      "80\n",
      "Getting page: 9\n",
      "81\n"
     ]
    }
   ],
   "source": [
    "review_3star_df = pd.DataFrame(get_review_on_stars(\"https://www.amazon.in/Apple-iPhone-13-128GB-Starlight/product-reviews/B09G9D8KRQ/ref=cm_cr_getr_d_paging_btm_next_2?ie=UTF8&reviewerType=all_reviews&filterByStar=three_star\"))"
   ]
  },
  {
   "cell_type": "code",
   "execution_count": 37,
   "id": "3c8800ba",
   "metadata": {},
   "outputs": [
    {
     "name": "stdout",
     "output_type": "stream",
     "text": [
      "Getting page: 1\n",
      "10\n",
      "Getting page: 2\n",
      "20\n",
      "Getting page: 3\n",
      "30\n",
      "Getting page: 4\n",
      "40\n",
      "Getting page: 5\n",
      "50\n",
      "Getting page: 6\n",
      "60\n",
      "Getting page: 7\n",
      "68\n"
     ]
    }
   ],
   "source": [
    "review_2star_df = pd.DataFrame(get_review_on_stars(\"https://www.amazon.in/Apple-iPhone-13-128GB-Starlight/product-reviews/B09G9D8KRQ/ref=cm_cr_getr_d_paging_btm_next_2?ie=UTF8&reviewerType=all_reviews&filterByStar=two_star\"))"
   ]
  },
  {
   "cell_type": "code",
   "execution_count": 38,
   "id": "326d1a73",
   "metadata": {},
   "outputs": [
    {
     "name": "stdout",
     "output_type": "stream",
     "text": [
      "Getting page: 1\n",
      "10\n",
      "Getting page: 2\n",
      "20\n",
      "Getting page: 3\n",
      "30\n",
      "Getting page: 4\n",
      "40\n",
      "Getting page: 5\n",
      "50\n",
      "Getting page: 6\n",
      "60\n",
      "Getting page: 7\n",
      "70\n",
      "Getting page: 8\n",
      "80\n",
      "Getting page: 9\n",
      "90\n",
      "Getting page: 10\n",
      "100\n"
     ]
    }
   ],
   "source": [
    "review_1star_df = pd.DataFrame(get_review_on_stars(\"https://www.amazon.in/Apple-iPhone-13-128GB-Starlight/product-reviews/B09G9D8KRQ/ref=cm_cr_getr_d_paging_btm_next_2?ie=UTF8&reviewerType=all_reviews&filterByStar=one_star\"))"
   ]
  },
  {
   "cell_type": "code",
   "execution_count": 56,
   "id": "091161c1",
   "metadata": {},
   "outputs": [
    {
     "data": {
      "text/plain": [
       "(449, 4)"
      ]
     },
     "execution_count": 56,
     "metadata": {},
     "output_type": "execute_result"
    }
   ],
   "source": [
    "df = pd.concat([review_5star_df, review_4star_df,review_3star_df,review_2star_df,review_1star_df])\n",
    "df.shape"
   ]
  },
  {
   "cell_type": "code",
   "execution_count": 57,
   "id": "971356d0",
   "metadata": {},
   "outputs": [
    {
     "data": {
      "text/html": [
       "<div>\n",
       "<style scoped>\n",
       "    .dataframe tbody tr th:only-of-type {\n",
       "        vertical-align: middle;\n",
       "    }\n",
       "\n",
       "    .dataframe tbody tr th {\n",
       "        vertical-align: top;\n",
       "    }\n",
       "\n",
       "    .dataframe thead th {\n",
       "        text-align: right;\n",
       "    }\n",
       "</style>\n",
       "<table border=\"1\" class=\"dataframe\">\n",
       "  <thead>\n",
       "    <tr style=\"text-align: right;\">\n",
       "      <th></th>\n",
       "      <th>product</th>\n",
       "      <th>title</th>\n",
       "      <th>rating</th>\n",
       "      <th>body</th>\n",
       "    </tr>\n",
       "  </thead>\n",
       "  <tbody>\n",
       "    <tr>\n",
       "      <th>444</th>\n",
       "      <td>Apple iPhone 13 (128GB) - Starlight</td>\n",
       "      <td>1.0 out of 5 stars\\nDisappointed</td>\n",
       "      <td>1.0</td>\n",
       "      <td>Not happy with the product</td>\n",
       "    </tr>\n",
       "    <tr>\n",
       "      <th>445</th>\n",
       "      <td>Apple iPhone 13 (128GB) - Starlight</td>\n",
       "      <td>1.0 out of 5 stars\\nBattery backup not good</td>\n",
       "      <td>1.0</td>\n",
       "      <td>Battery backup not good .not good phone money ...</td>\n",
       "    </tr>\n",
       "    <tr>\n",
       "      <th>446</th>\n",
       "      <td>Apple iPhone 13 (128GB) - Starlight</td>\n",
       "      <td>1.0 out of 5 stars\\nIt's awesome. I love it.😍</td>\n",
       "      <td>1.0</td>\n",
       "      <td>Finally switching from Android to iPhone. It's...</td>\n",
       "    </tr>\n",
       "    <tr>\n",
       "      <th>447</th>\n",
       "      <td>Apple iPhone 13 (128GB) - Starlight</td>\n",
       "      <td>1.0 out of 5 stars\\nCharging issue</td>\n",
       "      <td>1.0</td>\n",
       "      <td>Facing issue to charge it.</td>\n",
       "    </tr>\n",
       "    <tr>\n",
       "      <th>448</th>\n",
       "      <td>Apple iPhone 13 (128GB) - Starlight</td>\n",
       "      <td>1.0 out of 5 stars\\nBattery shows abnormal beh...</td>\n",
       "      <td>1.0</td>\n",
       "      <td>I have ordered one apple i phone 13 256 GB Aft...</td>\n",
       "    </tr>\n",
       "  </tbody>\n",
       "</table>\n",
       "</div>"
      ],
      "text/plain": [
       "                                 product  \\\n",
       "444  Apple iPhone 13 (128GB) - Starlight   \n",
       "445  Apple iPhone 13 (128GB) - Starlight   \n",
       "446  Apple iPhone 13 (128GB) - Starlight   \n",
       "447  Apple iPhone 13 (128GB) - Starlight   \n",
       "448  Apple iPhone 13 (128GB) - Starlight   \n",
       "\n",
       "                                                 title  rating  \\\n",
       "444                   1.0 out of 5 stars\\nDisappointed     1.0   \n",
       "445        1.0 out of 5 stars\\nBattery backup not good     1.0   \n",
       "446      1.0 out of 5 stars\\nIt's awesome. I love it.😍     1.0   \n",
       "447                 1.0 out of 5 stars\\nCharging issue     1.0   \n",
       "448  1.0 out of 5 stars\\nBattery shows abnormal beh...     1.0   \n",
       "\n",
       "                                                  body  \n",
       "444                         Not happy with the product  \n",
       "445  Battery backup not good .not good phone money ...  \n",
       "446  Finally switching from Android to iPhone. It's...  \n",
       "447                         Facing issue to charge it.  \n",
       "448  I have ordered one apple i phone 13 256 GB Aft...  "
      ]
     },
     "execution_count": 57,
     "metadata": {},
     "output_type": "execute_result"
    }
   ],
   "source": [
    "df.reset_index(inplace = True,drop = True)\n",
    "df.tail()"
   ]
  },
  {
   "cell_type": "code",
   "execution_count": 60,
   "id": "f8b41adc",
   "metadata": {},
   "outputs": [
    {
     "data": {
      "text/html": [
       "<div>\n",
       "<style scoped>\n",
       "    .dataframe tbody tr th:only-of-type {\n",
       "        vertical-align: middle;\n",
       "    }\n",
       "\n",
       "    .dataframe tbody tr th {\n",
       "        vertical-align: top;\n",
       "    }\n",
       "\n",
       "    .dataframe thead th {\n",
       "        text-align: right;\n",
       "    }\n",
       "</style>\n",
       "<table border=\"1\" class=\"dataframe\">\n",
       "  <thead>\n",
       "    <tr style=\"text-align: right;\">\n",
       "      <th></th>\n",
       "      <th>product</th>\n",
       "      <th>title</th>\n",
       "      <th>rating</th>\n",
       "      <th>body</th>\n",
       "    </tr>\n",
       "  </thead>\n",
       "  <tbody>\n",
       "    <tr>\n",
       "      <th>368</th>\n",
       "      <td>Apple iPhone 13 (128GB) - Starlight</td>\n",
       "      <td>1.0 out of 5 stars\\nProduct is not worth the p...</td>\n",
       "      <td>1.0</td>\n",
       "      <td>Battery drains too fast and phn gets too hot w...</td>\n",
       "    </tr>\n",
       "    <tr>\n",
       "      <th>423</th>\n",
       "      <td>Apple iPhone 13 (128GB) - Starlight</td>\n",
       "      <td>1.0 out of 5 stars\\nGot stolen.</td>\n",
       "      <td>1.0</td>\n",
       "      <td>Mine got stolen and considering everything is ...</td>\n",
       "    </tr>\n",
       "    <tr>\n",
       "      <th>338</th>\n",
       "      <td>Apple iPhone 13 (128GB) - Starlight</td>\n",
       "      <td>2.0 out of 5 stars\\nVery poor battery life</td>\n",
       "      <td>2.0</td>\n",
       "      <td>The battery drains too quickly for a new phone...</td>\n",
       "    </tr>\n",
       "    <tr>\n",
       "      <th>211</th>\n",
       "      <td>Apple iPhone 13 (128GB) - Starlight</td>\n",
       "      <td>3.0 out of 5 stars\\nGood</td>\n",
       "      <td>3.0</td>\n",
       "      <td>Nic brand</td>\n",
       "    </tr>\n",
       "    <tr>\n",
       "      <th>162</th>\n",
       "      <td>Apple iPhone 13 (128GB) - Starlight</td>\n",
       "      <td>4.0 out of 5 stars\\nNice</td>\n",
       "      <td>4.0</td>\n",
       "      <td>Nice</td>\n",
       "    </tr>\n",
       "  </tbody>\n",
       "</table>\n",
       "</div>"
      ],
      "text/plain": [
       "                                 product  \\\n",
       "368  Apple iPhone 13 (128GB) - Starlight   \n",
       "423  Apple iPhone 13 (128GB) - Starlight   \n",
       "338  Apple iPhone 13 (128GB) - Starlight   \n",
       "211  Apple iPhone 13 (128GB) - Starlight   \n",
       "162  Apple iPhone 13 (128GB) - Starlight   \n",
       "\n",
       "                                                 title  rating  \\\n",
       "368  1.0 out of 5 stars\\nProduct is not worth the p...     1.0   \n",
       "423                    1.0 out of 5 stars\\nGot stolen.     1.0   \n",
       "338         2.0 out of 5 stars\\nVery poor battery life     2.0   \n",
       "211                           3.0 out of 5 stars\\nGood     3.0   \n",
       "162                           4.0 out of 5 stars\\nNice     4.0   \n",
       "\n",
       "                                                  body  \n",
       "368  Battery drains too fast and phn gets too hot w...  \n",
       "423  Mine got stolen and considering everything is ...  \n",
       "338  The battery drains too quickly for a new phone...  \n",
       "211                                          Nic brand  \n",
       "162                                               Nice  "
      ]
     },
     "execution_count": 60,
     "metadata": {},
     "output_type": "execute_result"
    }
   ],
   "source": [
    "df.sample(5)"
   ]
  },
  {
   "cell_type": "code",
   "execution_count": 61,
   "id": "b7cb272b",
   "metadata": {},
   "outputs": [
    {
     "data": {
      "text/plain": [
       "(449, 4)"
      ]
     },
     "execution_count": 61,
     "metadata": {},
     "output_type": "execute_result"
    }
   ],
   "source": [
    "df.shape"
   ]
  },
  {
   "cell_type": "code",
   "execution_count": 62,
   "id": "bdc69d3c",
   "metadata": {},
   "outputs": [],
   "source": [
    "df.to_csv(\"iphone13_reviews.csv\", index= False)"
   ]
  },
  {
   "cell_type": "code",
   "execution_count": null,
   "id": "394bc658",
   "metadata": {},
   "outputs": [],
   "source": []
  }
 ],
 "metadata": {
  "kernelspec": {
   "display_name": "Python 3 (ipykernel)",
   "language": "python",
   "name": "python3"
  },
  "language_info": {
   "codemirror_mode": {
    "name": "ipython",
    "version": 3
   },
   "file_extension": ".py",
   "mimetype": "text/x-python",
   "name": "python",
   "nbconvert_exporter": "python",
   "pygments_lexer": "ipython3",
   "version": "3.10.12"
  }
 },
 "nbformat": 4,
 "nbformat_minor": 5
}
