{
 "cells": [
  {
   "cell_type": "markdown",
   "id": "2a80a417",
   "metadata": {},
   "source": [
    "# Custom Model for sentiment analysis"
   ]
  },
  {
   "cell_type": "markdown",
   "id": "36f11251",
   "metadata": {},
   "source": [
    "Build a \"ANN\" model, train it on the amazon reviews dataset and check the accuracy of the model."
   ]
  },
  {
   "cell_type": "markdown",
   "id": "bc45f260",
   "metadata": {},
   "source": [
    "We need to convert the reviews to vectors and take them as labels for training our model, \\\n",
    "same with the review_type"
   ]
  },
  {
   "cell_type": "code",
   "execution_count": 24,
   "id": "315258c9",
   "metadata": {},
   "outputs": [],
   "source": [
    "import pandas as pd\n",
    "import numpy as np\n",
    "import tensorflow as tf\n",
    "from tensorflow import keras\n",
    "import matplotlib.pyplot as plt\n",
    "import seaborn as sns"
   ]
  },
  {
   "cell_type": "code",
   "execution_count": 4,
   "id": "e192db9b",
   "metadata": {},
   "outputs": [
    {
     "data": {
      "text/plain": [
       "[PhysicalDevice(name='/physical_device:CPU:0', device_type='CPU'),\n",
       " PhysicalDevice(name='/physical_device:GPU:0', device_type='GPU')]"
      ]
     },
     "execution_count": 4,
     "metadata": {},
     "output_type": "execute_result"
    }
   ],
   "source": [
    "tf.config.list_physical_devices()"
   ]
  },
  {
   "cell_type": "code",
   "execution_count": 7,
   "id": "ba112318",
   "metadata": {},
   "outputs": [
    {
     "data": {
      "text/html": [
       "<div>\n",
       "<style scoped>\n",
       "    .dataframe tbody tr th:only-of-type {\n",
       "        vertical-align: middle;\n",
       "    }\n",
       "\n",
       "    .dataframe tbody tr th {\n",
       "        vertical-align: top;\n",
       "    }\n",
       "\n",
       "    .dataframe thead th {\n",
       "        text-align: right;\n",
       "    }\n",
       "</style>\n",
       "<table border=\"1\" class=\"dataframe\">\n",
       "  <thead>\n",
       "    <tr style=\"text-align: right;\">\n",
       "      <th></th>\n",
       "      <th>product</th>\n",
       "      <th>title</th>\n",
       "      <th>rating</th>\n",
       "      <th>review</th>\n",
       "      <th>review_type</th>\n",
       "    </tr>\n",
       "  </thead>\n",
       "  <tbody>\n",
       "    <tr>\n",
       "      <th>0</th>\n",
       "      <td>Apple iPhone 13 (128GB) - Starlight</td>\n",
       "      <td>5.0 out of 5 stars\\nAbout the Product</td>\n",
       "      <td>5.0</td>\n",
       "      <td>Its was my long dream to buy an iphone and my ...</td>\n",
       "      <td>good</td>\n",
       "    </tr>\n",
       "    <tr>\n",
       "      <th>1</th>\n",
       "      <td>Apple iPhone 13 (128GB) - Starlight</td>\n",
       "      <td>5.0 out of 5 stars\\nApple is the king undoubte...</td>\n",
       "      <td>5.0</td>\n",
       "      <td>Many people says “oh I don’t like iPhones, and...</td>\n",
       "      <td>good</td>\n",
       "    </tr>\n",
       "    <tr>\n",
       "      <th>2</th>\n",
       "      <td>Apple iPhone 13 (128GB) - Starlight</td>\n",
       "      <td>5.0 out of 5 stars\\nCamera quality</td>\n",
       "      <td>5.0</td>\n",
       "      <td>Image quality is awesome. All the camera lover...</td>\n",
       "      <td>good</td>\n",
       "    </tr>\n",
       "    <tr>\n",
       "      <th>3</th>\n",
       "      <td>Apple iPhone 13 (128GB) - Starlight</td>\n",
       "      <td>5.0 out of 5 stars\\nABSOLUTELY 10/10</td>\n",
       "      <td>5.0</td>\n",
       "      <td>DISPLAY IS 10/10 PEAK BRIGHTNESS IS CRAZYBATTE...</td>\n",
       "      <td>good</td>\n",
       "    </tr>\n",
       "    <tr>\n",
       "      <th>4</th>\n",
       "      <td>Apple iPhone 13 (128GB) - Starlight</td>\n",
       "      <td>5.0 out of 5 stars\\nMy first iPhone Experience</td>\n",
       "      <td>5.0</td>\n",
       "      <td>It is amazing me everyday , so many practical ...</td>\n",
       "      <td>good</td>\n",
       "    </tr>\n",
       "  </tbody>\n",
       "</table>\n",
       "</div>"
      ],
      "text/plain": [
       "                               product  \\\n",
       "0  Apple iPhone 13 (128GB) - Starlight   \n",
       "1  Apple iPhone 13 (128GB) - Starlight   \n",
       "2  Apple iPhone 13 (128GB) - Starlight   \n",
       "3  Apple iPhone 13 (128GB) - Starlight   \n",
       "4  Apple iPhone 13 (128GB) - Starlight   \n",
       "\n",
       "                                               title  rating  \\\n",
       "0              5.0 out of 5 stars\\nAbout the Product     5.0   \n",
       "1  5.0 out of 5 stars\\nApple is the king undoubte...     5.0   \n",
       "2                 5.0 out of 5 stars\\nCamera quality     5.0   \n",
       "3               5.0 out of 5 stars\\nABSOLUTELY 10/10     5.0   \n",
       "4     5.0 out of 5 stars\\nMy first iPhone Experience     5.0   \n",
       "\n",
       "                                              review review_type  \n",
       "0  Its was my long dream to buy an iphone and my ...        good  \n",
       "1  Many people says “oh I don’t like iPhones, and...        good  \n",
       "2  Image quality is awesome. All the camera lover...        good  \n",
       "3  DISPLAY IS 10/10 PEAK BRIGHTNESS IS CRAZYBATTE...        good  \n",
       "4  It is amazing me everyday , so many practical ...        good  "
      ]
     },
     "execution_count": 7,
     "metadata": {},
     "output_type": "execute_result"
    }
   ],
   "source": [
    "df = pd.read_csv('iphone13_clean_csv')\n",
    "df = df.drop(0)\n",
    "df = df.reset_index(drop = True)\n",
    "df.head()"
   ]
  },
  {
   "cell_type": "markdown",
   "id": "5260b6a4",
   "metadata": {},
   "source": [
    "### Preprocessing"
   ]
  },
  {
   "cell_type": "code",
   "execution_count": 8,
   "id": "441ba310",
   "metadata": {},
   "outputs": [],
   "source": [
    "review_df = df[[\"review\",\"review_type\"]]"
   ]
  },
  {
   "cell_type": "code",
   "execution_count": 9,
   "id": "a40fd211",
   "metadata": {},
   "outputs": [
    {
     "name": "stderr",
     "output_type": "stream",
     "text": [
      "C:\\Users\\Shreyas\\anaconda3\\envs\\tf_gpu\\lib\\site-packages\\sklearn\\preprocessing\\_encoders.py:972: FutureWarning: `sparse` was renamed to `sparse_output` in version 1.2 and will be removed in 1.4. `sparse_output` is ignored unless you leave `sparse` to its default value.\n",
      "  warnings.warn(\n"
     ]
    }
   ],
   "source": [
    "from sklearn.preprocessing import OneHotEncoder\n",
    "\n",
    "type_one_hot = OneHotEncoder(sparse=False).fit_transform(review_df.review_type.to_numpy().reshape(-1, 1))"
   ]
  },
  {
   "cell_type": "code",
   "execution_count": 83,
   "id": "ecb075a9",
   "metadata": {},
   "outputs": [
    {
     "data": {
      "text/plain": [
       "array([[0., 1.],\n",
       "       [0., 1.],\n",
       "       [0., 1.],\n",
       "       [0., 1.],\n",
       "       [0., 1.]])"
      ]
     },
     "execution_count": 83,
     "metadata": {},
     "output_type": "execute_result"
    }
   ],
   "source": [
    "type_one_hot[0:5]"
   ]
  },
  {
   "cell_type": "markdown",
   "id": "8a128f69",
   "metadata": {},
   "source": [
    "the first column is for \"BAD reviews\", i.e if it's 1 in first column then it is bad review"
   ]
  },
  {
   "cell_type": "code",
   "execution_count": 17,
   "id": "cf67be34",
   "metadata": {},
   "outputs": [],
   "source": [
    "from sklearn.model_selection import train_test_split\n",
    "\n",
    "train_reviews, test_reviews, y_train, y_test = train_test_split(review_df.review, \n",
    "                                                                type_one_hot, \n",
    "                                                                test_size= 0.1, \n",
    "                                                                random_state= 4)                                                           "
   ]
  },
  {
   "cell_type": "code",
   "execution_count": 18,
   "id": "f7dac99b",
   "metadata": {},
   "outputs": [],
   "source": [
    "# we need to emmbed the reviews to get vectors, lets use universal sentence encoder from transformers hub\n",
    "import tensorflow_hub as hub\n",
    "import tensorflow_text\n",
    "\n",
    "use = hub.load(\"https://tfhub.dev/google/universal-sentence-encoder-multilingual-large/3\")"
   ]
  },
  {
   "cell_type": "code",
   "execution_count": 19,
   "id": "69c74e3c",
   "metadata": {},
   "outputs": [
    {
     "name": "stderr",
     "output_type": "stream",
     "text": [
      "100%|██████████| 385/385 [00:18<00:00, 21.11it/s]\n"
     ]
    },
    {
     "data": {
      "text/plain": [
       "array([[ 0.0345172 ,  0.06267893, -0.05674873, ..., -0.0227613 ,\n",
       "        -0.01623258, -0.00933665],\n",
       "       [-0.01671571,  0.00587866,  0.00207136, ...,  0.0406719 ,\n",
       "        -0.05625053, -0.03842795]], dtype=float32)"
      ]
     },
     "execution_count": 19,
     "metadata": {},
     "output_type": "execute_result"
    }
   ],
   "source": [
    "from tqdm import tqdm\n",
    "X_train = []\n",
    "for r in tqdm(train_reviews):\n",
    "    emb = use(r)\n",
    "    review_emb = tf.reshape(emb, [-1]).numpy()\n",
    "    X_train.append(review_emb)\n",
    "\n",
    "X_train = np.array(X_train)\n",
    "X_train[0:2]"
   ]
  },
  {
   "cell_type": "code",
   "execution_count": 21,
   "id": "39114305",
   "metadata": {},
   "outputs": [
    {
     "data": {
      "text/plain": [
       "(385, 512)"
      ]
     },
     "execution_count": 21,
     "metadata": {},
     "output_type": "execute_result"
    }
   ],
   "source": [
    "X_train.shape"
   ]
  },
  {
   "cell_type": "code",
   "execution_count": 22,
   "id": "b66dcda3",
   "metadata": {},
   "outputs": [
    {
     "name": "stderr",
     "output_type": "stream",
     "text": [
      "100%|██████████| 43/43 [00:01<00:00, 22.66it/s]\n"
     ]
    },
    {
     "data": {
      "text/plain": [
       "array([[-0.01468932,  0.0101088 ,  0.00417668, ...,  0.05473149,\n",
       "         0.04310751, -0.06549034],\n",
       "       [ 0.01744368, -0.0067172 , -0.01506467, ..., -0.04540636,\n",
       "        -0.02484543, -0.0222956 ]], dtype=float32)"
      ]
     },
     "execution_count": 22,
     "metadata": {},
     "output_type": "execute_result"
    }
   ],
   "source": [
    "X_test = []\n",
    "for r in tqdm(test_reviews):\n",
    "    emb = use(r)\n",
    "    review_emb = tf.reshape(emb, [-1]).numpy()\n",
    "    X_test.append(review_emb)\n",
    "\n",
    "X_test = np.array(X_test)\n",
    "X_test[0:2]"
   ]
  },
  {
   "cell_type": "code",
   "execution_count": 23,
   "id": "4e4a1012",
   "metadata": {},
   "outputs": [
    {
     "name": "stdout",
     "output_type": "stream",
     "text": [
      "xtrain and xtest shapes:  (385, 512) (43, 512)\n",
      "ytrain and ytest shapes:  (385, 2) (43, 2)\n"
     ]
    }
   ],
   "source": [
    "print(\"xtrain and xtest shapes: \",X_train.shape, X_test.shape)\n",
    "print(\"ytrain and ytest shapes: \",y_train.shape, y_test.shape)"
   ]
  },
  {
   "cell_type": "code",
   "execution_count": 79,
   "id": "a82cd86a",
   "metadata": {},
   "outputs": [
    {
     "data": {
      "text/plain": [
       "array([[0., 1.],\n",
       "       [1., 0.],\n",
       "       [1., 0.],\n",
       "       [0., 1.],\n",
       "       [0., 1.]])"
      ]
     },
     "execution_count": 79,
     "metadata": {},
     "output_type": "execute_result"
    }
   ],
   "source": [
    "y_test[0:5]"
   ]
  },
  {
   "cell_type": "markdown",
   "id": "01428b8b",
   "metadata": {},
   "source": [
    "the first column is for \"BAD reviews\", i.e if it's 1 in first column then it is bad review"
   ]
  },
  {
   "cell_type": "markdown",
   "id": "2345b79c",
   "metadata": {},
   "source": [
    "### Sentiment Analysis"
   ]
  },
  {
   "cell_type": "code",
   "execution_count": 72,
   "id": "68ed1fd5",
   "metadata": {},
   "outputs": [],
   "source": [
    "model = keras.Sequential()\n",
    "\n",
    "model.add(keras.layers.Dense(\n",
    "    units=64,\n",
    "    input_shape=(X_train.shape[1], ),\n",
    "    activation='relu'))\n",
    "# to avoid overfitting use dropout layers\n",
    "model.add(keras.layers.Dropout(rate=0.5))\n",
    "\n",
    "model.add(keras.layers.Dense(\n",
    "    units=32,\n",
    "    activation='relu'))\n",
    "\n",
    "model.add(keras.layers.Dense(2, activation='softmax'))\n",
    "\n",
    "model.compile(\n",
    "    loss='categorical_crossentropy', \n",
    "    optimizer=keras.optimizers.Adam(0.0001),\n",
    "    metrics=['accuracy']\n",
    ")"
   ]
  },
  {
   "cell_type": "code",
   "execution_count": 73,
   "id": "651787d0",
   "metadata": {},
   "outputs": [
    {
     "name": "stdout",
     "output_type": "stream",
     "text": [
      "Epoch 1/40\n",
      "22/22 [==============================] - 0s 10ms/step - loss: 0.6901 - accuracy: 0.5549 - val_loss: 0.6942 - val_accuracy: 0.5385\n",
      "Epoch 2/40\n",
      "22/22 [==============================] - 0s 5ms/step - loss: 0.6892 - accuracy: 0.5694 - val_loss: 0.6930 - val_accuracy: 0.5385\n",
      "Epoch 3/40\n",
      "22/22 [==============================] - 0s 6ms/step - loss: 0.6839 - accuracy: 0.5838 - val_loss: 0.6911 - val_accuracy: 0.5385\n",
      "Epoch 4/40\n",
      "22/22 [==============================] - 0s 6ms/step - loss: 0.6776 - accuracy: 0.6561 - val_loss: 0.6896 - val_accuracy: 0.4872\n",
      "Epoch 5/40\n",
      "22/22 [==============================] - 0s 6ms/step - loss: 0.6764 - accuracy: 0.6647 - val_loss: 0.6875 - val_accuracy: 0.5641\n",
      "Epoch 6/40\n",
      "22/22 [==============================] - 0s 5ms/step - loss: 0.6704 - accuracy: 0.6329 - val_loss: 0.6857 - val_accuracy: 0.5897\n",
      "Epoch 7/40\n",
      "22/22 [==============================] - 0s 6ms/step - loss: 0.6669 - accuracy: 0.6647 - val_loss: 0.6827 - val_accuracy: 0.5897\n",
      "Epoch 8/40\n",
      "22/22 [==============================] - 0s 6ms/step - loss: 0.6664 - accuracy: 0.6792 - val_loss: 0.6790 - val_accuracy: 0.5897\n",
      "Epoch 9/40\n",
      "22/22 [==============================] - 0s 6ms/step - loss: 0.6603 - accuracy: 0.6590 - val_loss: 0.6753 - val_accuracy: 0.5897\n",
      "Epoch 10/40\n",
      "22/22 [==============================] - 0s 6ms/step - loss: 0.6469 - accuracy: 0.7225 - val_loss: 0.6707 - val_accuracy: 0.6154\n",
      "Epoch 11/40\n",
      "22/22 [==============================] - 0s 6ms/step - loss: 0.6440 - accuracy: 0.7225 - val_loss: 0.6660 - val_accuracy: 0.6154\n",
      "Epoch 12/40\n",
      "22/22 [==============================] - 0s 6ms/step - loss: 0.6449 - accuracy: 0.7168 - val_loss: 0.6613 - val_accuracy: 0.6667\n",
      "Epoch 13/40\n",
      "22/22 [==============================] - 0s 6ms/step - loss: 0.6330 - accuracy: 0.7457 - val_loss: 0.6556 - val_accuracy: 0.6923\n",
      "Epoch 14/40\n",
      "22/22 [==============================] - 0s 6ms/step - loss: 0.6322 - accuracy: 0.7225 - val_loss: 0.6504 - val_accuracy: 0.6923\n",
      "Epoch 15/40\n",
      "22/22 [==============================] - 0s 5ms/step - loss: 0.6211 - accuracy: 0.7457 - val_loss: 0.6439 - val_accuracy: 0.6923\n",
      "Epoch 16/40\n",
      "22/22 [==============================] - 0s 5ms/step - loss: 0.6107 - accuracy: 0.7659 - val_loss: 0.6365 - val_accuracy: 0.6923\n",
      "Epoch 17/40\n",
      "22/22 [==============================] - 0s 6ms/step - loss: 0.6034 - accuracy: 0.7659 - val_loss: 0.6290 - val_accuracy: 0.6923\n",
      "Epoch 18/40\n",
      "22/22 [==============================] - 0s 5ms/step - loss: 0.5906 - accuracy: 0.7861 - val_loss: 0.6213 - val_accuracy: 0.6923\n",
      "Epoch 19/40\n",
      "22/22 [==============================] - 0s 6ms/step - loss: 0.5775 - accuracy: 0.7572 - val_loss: 0.6124 - val_accuracy: 0.6923\n",
      "Epoch 20/40\n",
      "22/22 [==============================] - 0s 5ms/step - loss: 0.5776 - accuracy: 0.7775 - val_loss: 0.6047 - val_accuracy: 0.6923\n",
      "Epoch 21/40\n",
      "22/22 [==============================] - 0s 6ms/step - loss: 0.5629 - accuracy: 0.7948 - val_loss: 0.5944 - val_accuracy: 0.6667\n",
      "Epoch 22/40\n",
      "22/22 [==============================] - 0s 5ms/step - loss: 0.5574 - accuracy: 0.7919 - val_loss: 0.5847 - val_accuracy: 0.6923\n",
      "Epoch 23/40\n",
      "22/22 [==============================] - 0s 6ms/step - loss: 0.5466 - accuracy: 0.8121 - val_loss: 0.5761 - val_accuracy: 0.6923\n",
      "Epoch 24/40\n",
      "22/22 [==============================] - 0s 6ms/step - loss: 0.5446 - accuracy: 0.7688 - val_loss: 0.5684 - val_accuracy: 0.6923\n",
      "Epoch 25/40\n",
      "22/22 [==============================] - 0s 6ms/step - loss: 0.5218 - accuracy: 0.8006 - val_loss: 0.5592 - val_accuracy: 0.6923\n",
      "Epoch 26/40\n",
      "22/22 [==============================] - 0s 6ms/step - loss: 0.5178 - accuracy: 0.8064 - val_loss: 0.5487 - val_accuracy: 0.6923\n",
      "Epoch 27/40\n",
      "22/22 [==============================] - 0s 5ms/step - loss: 0.5043 - accuracy: 0.8237 - val_loss: 0.5412 - val_accuracy: 0.6923\n",
      "Epoch 28/40\n",
      "22/22 [==============================] - 0s 6ms/step - loss: 0.5147 - accuracy: 0.7948 - val_loss: 0.5331 - val_accuracy: 0.6923\n",
      "Epoch 29/40\n",
      "22/22 [==============================] - 0s 6ms/step - loss: 0.4951 - accuracy: 0.8295 - val_loss: 0.5235 - val_accuracy: 0.7179\n",
      "Epoch 30/40\n",
      "22/22 [==============================] - 0s 6ms/step - loss: 0.4706 - accuracy: 0.8382 - val_loss: 0.5143 - val_accuracy: 0.7436\n",
      "Epoch 31/40\n",
      "22/22 [==============================] - 0s 6ms/step - loss: 0.4735 - accuracy: 0.8382 - val_loss: 0.5062 - val_accuracy: 0.7692\n",
      "Epoch 32/40\n",
      "22/22 [==============================] - 0s 6ms/step - loss: 0.4574 - accuracy: 0.8208 - val_loss: 0.5000 - val_accuracy: 0.7436\n",
      "Epoch 33/40\n",
      "22/22 [==============================] - 0s 6ms/step - loss: 0.4559 - accuracy: 0.8382 - val_loss: 0.4914 - val_accuracy: 0.7436\n",
      "Epoch 34/40\n",
      "22/22 [==============================] - 0s 6ms/step - loss: 0.4409 - accuracy: 0.8497 - val_loss: 0.4821 - val_accuracy: 0.7949\n",
      "Epoch 35/40\n",
      "22/22 [==============================] - 0s 6ms/step - loss: 0.4561 - accuracy: 0.8266 - val_loss: 0.4744 - val_accuracy: 0.7949\n",
      "Epoch 36/40\n",
      "22/22 [==============================] - 0s 6ms/step - loss: 0.4373 - accuracy: 0.8092 - val_loss: 0.4693 - val_accuracy: 0.7949\n",
      "Epoch 37/40\n",
      "22/22 [==============================] - 0s 6ms/step - loss: 0.4334 - accuracy: 0.8237 - val_loss: 0.4614 - val_accuracy: 0.7949\n",
      "Epoch 38/40\n",
      "22/22 [==============================] - 0s 6ms/step - loss: 0.4305 - accuracy: 0.8353 - val_loss: 0.4544 - val_accuracy: 0.7949\n",
      "Epoch 39/40\n",
      "22/22 [==============================] - 0s 5ms/step - loss: 0.4425 - accuracy: 0.8150 - val_loss: 0.4518 - val_accuracy: 0.7949\n",
      "Epoch 40/40\n",
      "22/22 [==============================] - 0s 6ms/step - loss: 0.4098 - accuracy: 0.8410 - val_loss: 0.4480 - val_accuracy: 0.7949\n"
     ]
    }
   ],
   "source": [
    "history = model.fit(\n",
    "    X_train, y_train, \n",
    "    epochs=40, \n",
    "    batch_size=16, \n",
    "    validation_split=0.1, \n",
    "    #verbose is 1 to show Progress bar with epochs\n",
    "    verbose=1, \n",
    "    #shuffle the training set after every epoch\n",
    "    shuffle=True\n",
    ")"
   ]
  },
  {
   "cell_type": "markdown",
   "id": "9700833d",
   "metadata": {},
   "source": [
    "__We can see that the val_accuracy is 0.8, since we have a small dataset this is a good result__"
   ]
  },
  {
   "cell_type": "code",
   "execution_count": 74,
   "id": "b65d2880",
   "metadata": {},
   "outputs": [
    {
     "data": {
      "text/plain": [
       "<matplotlib.legend.Legend at 0x1730b9df370>"
      ]
     },
     "execution_count": 74,
     "metadata": {},
     "output_type": "execute_result"
    },
    {
     "data": {
      "image/png": "[encoded data removed]",
      "text/plain": [
       "<Figure size 640x480 with 1 Axes>"
      ]
     },
     "metadata": {},
     "output_type": "display_data"
    }
   ],
   "source": [
    "# plot val_loss vs epochs\n",
    "plt.plot(history.history['val_loss'], label='val loss')\n",
    "plt.xlabel(\"epoch\")\n",
    "plt.ylabel(\"Cross-entropy loss\")\n",
    "plt.legend()"
   ]
  },
  {
   "cell_type": "markdown",
   "id": "154ec6af",
   "metadata": {},
   "source": [
    "__We can see the val loss decrease, this would be more accurate on a larger dataset__"
   ]
  },
  {
   "cell_type": "code",
   "execution_count": 75,
   "id": "fd3d6293",
   "metadata": {},
   "outputs": [
    {
     "data": {
      "image/png": "[encoded data removed]",
      "text/plain": [
       "<Figure size 640x480 with 1 Axes>"
      ]
     },
     "metadata": {},
     "output_type": "display_data"
    }
   ],
   "source": [
    "# plot val_accuracy vs epochs\n",
    "plt.plot(history.history['val_accuracy'], label='val accuracy')\n",
    "plt.xlabel(\"epoch\")\n",
    "plt.ylabel(\"accuracy\")\n",
    "plt.legend();"
   ]
  },
  {
   "cell_type": "code",
   "execution_count": 76,
   "id": "2bbfdb6f",
   "metadata": {},
   "outputs": [
    {
     "name": "stdout",
     "output_type": "stream",
     "text": [
      "2/2 [==============================] - 0s 4ms/step - loss: 0.4100 - accuracy: 0.8372\n"
     ]
    },
    {
     "data": {
      "text/plain": [
       "[0.40995997190475464, 0.8372092843055725]"
      ]
     },
     "execution_count": 76,
     "metadata": {},
     "output_type": "execute_result"
    }
   ],
   "source": [
    "model.evaluate(X_test, y_test)"
   ]
  },
  {
   "cell_type": "markdown",
   "id": "ae435b88",
   "metadata": {},
   "source": [
    "The model has 0.83 accuracy on the test set"
   ]
  },
  {
   "cell_type": "markdown",
   "id": "0f63a33b",
   "metadata": {},
   "source": [
    "### Predictions"
   ]
  },
  {
   "cell_type": "code",
   "execution_count": 77,
   "id": "53dcd9a2",
   "metadata": {},
   "outputs": [
    {
     "name": "stdout",
     "output_type": "stream",
     "text": [
      "2/2 [==============================] - 0s 2ms/step\n"
     ]
    }
   ],
   "source": [
    "y_test_pred = model.predict(X_test)"
   ]
  },
  {
   "cell_type": "code",
   "execution_count": 84,
   "id": "25d66942",
   "metadata": {},
   "outputs": [
    {
     "data": {
      "text/plain": [
       "array([[0.22758506, 0.772415  ],\n",
       "       [0.71329105, 0.28670892],\n",
       "       [0.6235163 , 0.37648365],\n",
       "       [0.3503651 , 0.6496349 ],\n",
       "       [0.40148905, 0.5985109 ]], dtype=float32)"
      ]
     },
     "execution_count": 84,
     "metadata": {},
     "output_type": "execute_result"
    }
   ],
   "source": [
    "y_test_pred[0:5]"
   ]
  },
  {
   "cell_type": "markdown",
   "id": "0e3c31ef",
   "metadata": {},
   "source": [
    "The first column is for \"bad reviews\", if it is close to 1 then the review is bad else the review is good"
   ]
  },
  {
   "cell_type": "code",
   "execution_count": 94,
   "id": "3e97ae79",
   "metadata": {},
   "outputs": [
    {
     "name": "stdout",
     "output_type": "stream",
     "text": [
      "I have ordered one apple i phone 13 256 GB After getting the product it shows some abnormal battery behaviour. After that i tried many times to connect customer service but they are rejecting my call. I spent a huge amount for this product but now i can not replace this item even when the product is not good and its battery life is really bad\n",
      "Bad\n"
     ]
    }
   ],
   "source": [
    "print(test_reviews.iloc[10])\n",
    "print(\"Bad\" if y_test[10][0] == 1 else \"Good\")"
   ]
  },
  {
   "cell_type": "code",
   "execution_count": 98,
   "id": "424a0aab",
   "metadata": {},
   "outputs": [
    {
     "data": {
      "text/plain": [
       "'Bad'"
      ]
     },
     "execution_count": 98,
     "metadata": {},
     "output_type": "execute_result"
    }
   ],
   "source": [
    "\"Bad\" if np.argmax(y_test_pred[10]) == 0 else \"Good\""
   ]
  },
  {
   "cell_type": "markdown",
   "id": "179cdf02",
   "metadata": {},
   "source": [
    "__we can see that both test and predicted values are showing \"Bad\"__"
   ]
  },
  {
   "cell_type": "code",
   "execution_count": 100,
   "id": "b7b4fcf9",
   "metadata": {},
   "outputs": [
    {
     "name": "stdout",
     "output_type": "stream",
     "text": [
      "Good product by\n",
      "Good\n"
     ]
    }
   ],
   "source": [
    "print(test_reviews.iloc[0])\n",
    "print(\"Bad\" if y_test[0][0] == 1 else \"Good\")"
   ]
  },
  {
   "cell_type": "code",
   "execution_count": 101,
   "id": "5220ceb7",
   "metadata": {},
   "outputs": [
    {
     "data": {
      "text/plain": [
       "'Good'"
      ]
     },
     "execution_count": 101,
     "metadata": {},
     "output_type": "execute_result"
    }
   ],
   "source": [
    "\"Bad\" if np.argmax(y_test_pred[0]) == 0 else \"Good\""
   ]
  },
  {
   "cell_type": "markdown",
   "id": "ca3ceae2",
   "metadata": {},
   "source": [
    "__confusion matrix__"
   ]
  },
  {
   "cell_type": "code",
   "execution_count": 117,
   "id": "deb21cd0",
   "metadata": {},
   "outputs": [],
   "source": [
    "y_test_type = []\n",
    "for i in y_test:\n",
    "    rev = \"Bad\" if i[0] == 1 else \"Good\"\n",
    "    y_test_type.append(rev)"
   ]
  },
  {
   "cell_type": "code",
   "execution_count": 126,
   "id": "720ea63a",
   "metadata": {},
   "outputs": [],
   "source": [
    "y_pred_type = []\n",
    "for v in y_test_pred:\n",
    "    rev1 = \"Bad\" if np.argmax(v) == 0 else \"Good\"\n",
    "    y_pred_type.append(rev1)"
   ]
  },
  {
   "cell_type": "code",
   "execution_count": 130,
   "id": "30aae393",
   "metadata": {},
   "outputs": [
    {
     "data": {
      "text/plain": [
       "array([[23,  1],\n",
       "       [ 6, 13]], dtype=int64)"
      ]
     },
     "execution_count": 130,
     "metadata": {},
     "output_type": "execute_result"
    }
   ],
   "source": [
    "from sklearn.metrics import confusion_matrix\n",
    "class_mapping = {\"Bad\": 0, \"Good\": 1}\n",
    "\n",
    "# Convert class labels to binary values\n",
    "y_test_bin = [class_mapping[label] for label in y_test_type]\n",
    "y_pred_bin = [class_mapping[label] for label in y_pred_type]\n",
    "# Calculate the confusion matrix\n",
    "cm = confusion_matrix(y_test_bin, y_pred_bin)\n",
    "cm"
   ]
  },
  {
   "cell_type": "code",
   "execution_count": 131,
   "id": "679837f8",
   "metadata": {},
   "outputs": [
    {
     "data": {
      "text/plain": [
       "Text(95.72222222222221, 0.5, 'y_test_type')"
      ]
     },
     "execution_count": 131,
     "metadata": {},
     "output_type": "execute_result"
    },
    {
     "data": {
      "image/png": "[encoded data removed]",
      "text/plain": [
       "<Figure size 1000x700 with 2 Axes>"
      ]
     },
     "metadata": {},
     "output_type": "display_data"
    }
   ],
   "source": [
    "plt.figure(figsize = (10,7))\n",
    "sns.heatmap(cm, annot =True, fmt='d')\n",
    "plt.xlabel('y_pred_type')\n",
    "plt.ylabel('y_test_type')"
   ]
  },
  {
   "cell_type": "markdown",
   "id": "e9f38b2f",
   "metadata": {},
   "source": [
    "out of 24 bad reviews, 23 where predicted correctly \\\n",
    "out of 19 good reviews, 13 where predicted correctly"
   ]
  },
  {
   "cell_type": "code",
   "execution_count": null,
   "id": "91b47aff",
   "metadata": {},
   "outputs": [],
   "source": []
  }
 ],
 "metadata": {
  "kernelspec": {
   "display_name": "Python 3 (ipykernel)",
   "language": "python",
   "name": "python3"
  },
  "language_info": {
   "codemirror_mode": {
    "name": "ipython",
    "version": 3
   },
   "file_extension": ".py",
   "mimetype": "text/x-python",
   "name": "python",
   "nbconvert_exporter": "python",
   "pygments_lexer": "ipython3",
   "version": "3.10.12"
  }
 },
 "nbformat": 4,
 "nbformat_minor": 5
}
